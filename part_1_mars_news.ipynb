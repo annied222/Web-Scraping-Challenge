{
 "cells": [
  {
   "cell_type": "markdown",
   "metadata": {},
   "source": [
    "# Module 12 Challenge\n",
    "## Deliverable 1: Scrape Titles and Preview Text from Mars News"
   ]
  },
  {
   "cell_type": "code",
   "execution_count": 7,
   "metadata": {},
   "outputs": [],
   "source": [
    "# Import Splinter and BeautifulSoup\n",
    "from splinter import Browser\n",
    "from bs4 import BeautifulSoup as soup\n",
    "from webdriver_manager.chrome import ChromeDriverManager\n",
    "import requests\n",
    "import pymongo "
   ]
  },
  {
   "cell_type": "code",
   "execution_count": 8,
   "metadata": {
    "scrolled": true
   },
   "outputs": [],
   "source": [
    "executable_path = {'executable_path': ChromeDriverManager().install()}\n",
    "browser = Browser('chrome', **executable_path, headless=False)"
   ]
  },
  {
   "cell_type": "markdown",
   "metadata": {},
   "source": [
    "### Step 1: Visit the Website\n",
    "\n",
    "1. Use automated browsing to visit the [Mars NASA news site](https://redplanetscience.com). Inspect the page to identify which elements to scrape.\n",
    "\n",
    "      > **Hint** To identify which elements to scrape, you might want to inspect the page by using Chrome DevTools."
   ]
  },
  {
   "cell_type": "code",
   "execution_count": 9,
   "metadata": {},
   "outputs": [],
   "source": [
    "# Visit the Mars NASA news site: https://redplanetscience.com\n",
    "url = \"https://redplanetscience.com\"\n",
    "browser.visit(url)"
   ]
  },
  {
   "cell_type": "markdown",
   "metadata": {},
   "source": [
    "### Step 2: Scrape the Website\n",
    "\n",
    "Create a Beautiful Soup object and use it to extract text elements from the website."
   ]
  },
  {
   "cell_type": "code",
   "execution_count": 10,
   "metadata": {},
   "outputs": [],
   "source": [
    "# Create a Beautiful Soup object\n",
    "html=browser.html\n",
    "soup=soup(html, 'html.parser')"
   ]
  },
  {
   "cell_type": "code",
   "execution_count": 11,
   "metadata": {},
   "outputs": [],
   "source": [
    "# Extract all the text elements\n",
    "results = soup.find_all('div',class_='list_text')"
   ]
  },
  {
   "cell_type": "markdown",
   "metadata": {},
   "source": [
    "### Step 3: Store the Results\n",
    "\n",
    "Extract the titles and preview text of the news articles that you scraped. Store the scraping results in Python data structures as follows:\n",
    "\n",
    "* Store each title-and-preview pair in a Python dictionary. And, give each dictionary two keys: `title` and `preview`. An example is the following:\n",
    "\n",
    "  ```python\n",
    "  {'title': \"Mars Rover Begins Mission!\", \n",
    "        'preview': \"NASA's Mars Rover begins a multiyear mission to collect data about the little-explored planet.\"}\n",
    "  ```\n",
    "\n",
    "* Store all the dictionaries in a Python list.\n",
    "\n",
    "* Print the list in your notebook."
   ]
  },
  {
   "cell_type": "code",
   "execution_count": 12,
   "metadata": {},
   "outputs": [],
   "source": [
    "# Create an empty list to store the dictionaries\n",
    "collection=[]\n"
   ]
  },
  {
   "cell_type": "code",
   "execution_count": 13,
   "metadata": {},
   "outputs": [
    {
     "name": "stdout",
     "output_type": "stream",
     "text": [
      "-------------\n",
      "Title:  How NASA's Perseverance Mars Team Adjusted to Work in the Time of Coronavirus \n",
      "Preview:  Like much of the rest of the world, the Mars rover team is pushing forward with its mission-critical work while putting the health and safety of their colleagues and community first.\n",
      "-------------\n",
      "Title:  NASA's Ingenuity Mars Helicopter Recharges Its Batteries in Flight\n",
      "Preview:  Headed to the Red Planet with the Perseverance rover, the pioneering helicopter is powered up for the first time in interplanetary space as part of a systems check.\n",
      "-------------\n",
      "Title:  The MarCO Mission Comes to an End\n",
      "Preview:  The pair of briefcase-sized satellites made history when they sailed past Mars in 2019.\n",
      "-------------\n",
      "Title:  8 Martian Postcards to Celebrate Curiosity's Landing Anniversary\n",
      "Preview:  The NASA rover touched down eight years ago, on Aug. 5, 2012, and will soon be joined by a second rover, Perseverance.\n",
      "-------------\n",
      "Title:  Alabama High School Student Names NASA's Mars Helicopter\n",
      "Preview:  Vaneeza Rupani's essay was chosen as the name for the small spacecraft, which will mark NASA's first attempt at powered flight on another planet.\n",
      "-------------\n",
      "Title:  NASA to Reveal Name of Its Next Mars Rover\n",
      "Preview:  After a months-long contest among students to name NASA's newest Mars rover, the agency will reveal the winning name — and the winning student — this Thursday. \n",
      "-------------\n",
      "Title:  Newfound Martian Aurora Actually the Most Common; Sheds Light on Mars' Changing Climate\n",
      "Preview:  A type of Martian aurora first identified by NASA’s MAVEN spacecraft in 2016 is actually the most common form of aurora occurring on the Red Planet, according to new results from the mission.\n",
      "-------------\n",
      "Title:  Naming a NASA Mars Rover Can Change Your Life\n",
      "Preview:  Want to name the robotic scientist NASA is sending to Mars in 2020? The student who named Curiosity — the rover currently exploring Mars — will tell you this is an opportunity worth taking.\n",
      "-------------\n",
      "Title:  Nine Finalists Chosen in NASA's Mars 2020 Rover Naming Contest\n",
      "Preview:  Nine finalists have been chosen in the essay contest for K-12 students across U.S. to name NASA's next Mars rover. Now you can help by voting for your favorite. \n",
      "-------------\n",
      "Title:  NASA's Perseverance Rover Is Midway to Mars \n",
      "Preview:  Sometimes half measures can be a good thing – especially on a journey this long. The agency's latest rover only has about 146 million miles left to reach its destination.\n",
      "-------------\n",
      "Title:  3 Things We've Learned From NASA's Mars InSight \n",
      "Preview:  Scientists are finding new mysteries since the geophysics mission landed two years ago.\n",
      "-------------\n",
      "Title:  InSight's 'Mole' Team Peers into the Pit\n",
      "Preview:  Efforts to save the heat probe continue.\n",
      "-------------\n",
      "Title:  NASA's Treasure Map for Water Ice on Mars\n",
      "Preview:  A new study identifies frozen water just below the Martian surface, where astronauts could easily dig it up.\n",
      "-------------\n",
      "Title:  7 Things to Know About the Mars 2020 Perseverance Rover Mission\n",
      "Preview:  NASA's next rover to the Red Planet is slated to launch no earlier than July 30. These highlights will get you up to speed on the ambitious mission.\n",
      "-------------\n",
      "Title:  A New Video Captures the Science of NASA's Perseverance Mars Rover\n",
      "Preview:  With a targeted launch date of July 30, the next robotic scientist NASA is sending to the to the Red Planet has big ambitions.\n"
     ]
    }
   ],
   "source": [
    "# Loop through the text elements\n",
    "for result in results:\n",
    "\n",
    "        # Extract the title and preview text from the elements \n",
    "        # Identify and return title of the article\n",
    "        title = result.find('div', class_='content_title').text\n",
    "        # Identify and return the preview of the article\n",
    "        preview= result.find('div', class_='article_teaser_body').text\n",
    "        if(title and preview):\n",
    "                print('-------------')\n",
    "                print(\"Title: \",title)\n",
    "                print(\"Preview: \",preview)\n",
    "\n",
    "# Store each title and preview pair in a dictionaryt\n",
    "        post = {\n",
    "                title: 'title',\n",
    "                preview:'preview',\n",
    "                }\n",
    "# Add the dictionary to the list\n",
    "\n",
    "        collection.append(post)\n"
   ]
  },
  {
   "cell_type": "code",
   "execution_count": 14,
   "metadata": {},
   "outputs": [
    {
     "data": {
      "text/plain": [
       "[{\"How NASA's Perseverance Mars Team Adjusted to Work in the Time of Coronavirus \": 'title',\n",
       "  'Like much of the rest of the world, the Mars rover team is pushing forward with its mission-critical work while putting the health and safety of their colleagues and community first.': 'preview'},\n",
       " {\"NASA's Ingenuity Mars Helicopter Recharges Its Batteries in Flight\": 'title',\n",
       "  'Headed to the Red Planet with the Perseverance rover, the pioneering helicopter is powered up for the first time in interplanetary space as part of a systems check.': 'preview'},\n",
       " {'The MarCO Mission Comes to an End': 'title',\n",
       "  'The pair of briefcase-sized satellites made history when they sailed past Mars in 2019.': 'preview'},\n",
       " {\"8 Martian Postcards to Celebrate Curiosity's Landing Anniversary\": 'title',\n",
       "  'The NASA rover touched down eight years ago, on Aug. 5, 2012, and will soon be joined by a second rover, Perseverance.': 'preview'},\n",
       " {\"Alabama High School Student Names NASA's Mars Helicopter\": 'title',\n",
       "  \"Vaneeza Rupani's essay was chosen as the name for the small spacecraft, which will mark NASA's first attempt at powered flight on another planet.\": 'preview'},\n",
       " {'NASA to Reveal Name of Its Next Mars Rover': 'title',\n",
       "  \"After a months-long contest among students to name NASA's newest Mars rover, the agency will reveal the winning name — and the winning student — this Thursday. \": 'preview'},\n",
       " {\"Newfound Martian Aurora Actually the Most Common; Sheds Light on Mars' Changing Climate\": 'title',\n",
       "  'A type of Martian aurora first identified by NASA’s MAVEN spacecraft in 2016 is actually the most common form of aurora occurring on the Red Planet, according to new results from the mission.': 'preview'},\n",
       " {'Naming a NASA Mars Rover Can Change Your Life': 'title',\n",
       "  'Want to name the robotic scientist NASA is sending to Mars in 2020? The student who named Curiosity — the rover currently exploring Mars — will tell you this is an opportunity worth taking.': 'preview'},\n",
       " {\"Nine Finalists Chosen in NASA's Mars 2020 Rover Naming Contest\": 'title',\n",
       "  \"Nine finalists have been chosen in the essay contest for K-12 students across U.S. to name NASA's next Mars rover. Now you can help by voting for your favorite. \": 'preview'},\n",
       " {\"NASA's Perseverance Rover Is Midway to Mars \": 'title',\n",
       "  \"Sometimes half measures can be a good thing – especially on a journey this long. The agency's latest rover only has about 146 million miles left to reach its destination.\": 'preview'},\n",
       " {\"3 Things We've Learned From NASA's Mars InSight \": 'title',\n",
       "  'Scientists are finding new mysteries since the geophysics mission landed two years ago.': 'preview'},\n",
       " {\"InSight's 'Mole' Team Peers into the Pit\": 'title',\n",
       "  'Efforts to save the heat probe continue.': 'preview'},\n",
       " {\"NASA's Treasure Map for Water Ice on Mars\": 'title',\n",
       "  'A new study identifies frozen water just below the Martian surface, where astronauts could easily dig it up.': 'preview'},\n",
       " {'7 Things to Know About the Mars 2020 Perseverance Rover Mission': 'title',\n",
       "  \"NASA's next rover to the Red Planet is slated to launch no earlier than July 30. These highlights will get you up to speed on the ambitious mission.\": 'preview'},\n",
       " {\"A New Video Captures the Science of NASA's Perseverance Mars Rover\": 'title',\n",
       "  'With a targeted launch date of July 30, the next robotic scientist NASA is sending to the to the Red Planet has big ambitions.': 'preview'}]"
      ]
     },
     "execution_count": 14,
     "metadata": {},
     "output_type": "execute_result"
    }
   ],
   "source": [
    "# Print the list to confirm success\n",
    "collection"
   ]
  },
  {
   "cell_type": "code",
   "execution_count": 15,
   "metadata": {},
   "outputs": [],
   "source": [
    "browser.quit()"
   ]
  },
  {
   "cell_type": "markdown",
   "metadata": {},
   "source": [
    "### (Optional) Step 4: Export the Data\n",
    "\n",
    "Optionally, store the scraped data in a file or database (to ease sharing the data with others). To do so, export the scraped data to either a JSON file or a MongoDB database."
   ]
  },
  {
   "cell_type": "code",
   "execution_count": 16,
   "metadata": {},
   "outputs": [],
   "source": [
    "# Export data to JSON\n"
   ]
  },
  {
   "cell_type": "code",
   "execution_count": 17,
   "metadata": {},
   "outputs": [],
   "source": [
    "# Export data to MongoDB\n"
   ]
  }
 ],
 "metadata": {
  "kernelspec": {
   "display_name": "base",
   "language": "python",
   "name": "python3"
  },
  "language_info": {
   "codemirror_mode": {
    "name": "ipython",
    "version": 3
   },
   "file_extension": ".py",
   "mimetype": "text/x-python",
   "name": "python",
   "nbconvert_exporter": "python",
   "pygments_lexer": "ipython3",
   "version": "3.9.12"
  },
  "vscode": {
   "interpreter": {
    "hash": "88279d2366fe020547cde40dd65aa0e3aa662a6ec1f3ca12d88834876c85e1a6"
   }
  }
 },
 "nbformat": 4,
 "nbformat_minor": 4
}
